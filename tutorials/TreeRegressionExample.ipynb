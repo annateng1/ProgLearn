{
 "cells": [
  {
   "cell_type": "code",
   "execution_count": 28,
   "metadata": {},
   "outputs": [],
   "source": [
    "import random\n",
    "import matplotlib.pyplot as plt\n",
    "import tensorflow as tf\n",
    "import tensorflow.keras as keras\n",
    "import seaborn as sns\n",
    "from sklearn.datasets import make_regression\n",
    "from sklearn.linear_model import LinearRegression\n",
    "from sklearn.metrics import mean_squared_error\n",
    "\n",
    "import numpy as np\n",
    "import pickle\n",
    "\n",
    "from sklearn.model_selection import train_test_split\n",
    "from math import log2, ceil"
   ]
  },
  {
   "cell_type": "code",
   "execution_count": 29,
   "metadata": {},
   "outputs": [],
   "source": [
    "from proglearn.progressive_learner import ProgressiveLearner\n",
    "from proglearn.deciders import KNNRegressionDecider, LinearRegressionDecider\n",
    "from proglearn.transformers import TreeRegressionTransformer\n",
    "from proglearn.voters import TreeRegressionVoter\n",
    "from joblib import Parallel, delayed"
   ]
  },
  {
   "cell_type": "markdown",
   "metadata": {},
   "source": [
    "# Simulating Generating Task A and B Data"
   ]
  },
  {
   "cell_type": "code",
   "execution_count": 30,
   "metadata": {},
   "outputs": [
    {
     "name": "stdout",
     "output_type": "stream",
     "text": [
      "slope = [[1.]]\n",
      "intercept = [-1.73472348e-17]\n",
      "y = [1.]x + [-1.73472348e-17]\n"
     ]
    },
    {
     "data": {
      "image/png": "[encoded data removed]",
      "text/plain": [
       "<Figure size 432x288 with 2 Axes>"
      ]
     },
     "metadata": {
      "needs_background": "light"
     },
     "output_type": "display_data"
    }
   ],
   "source": [
    "#Create the Task A dataset\n",
    "X, y, coef = make_regression(n_samples=1000, n_features=1, n_informative=1, noise=0.1, coef=True, bias=0.0)\n",
    "\n",
    "#Use linear regression to find the true values\n",
    "regressor = LinearRegression()\n",
    "regressor.fit(X, y)\n",
    "\n",
    "#Plot the actual Task A data of y = x\n",
    "y = (y - regressor.intercept_) / regressor.coef_\n",
    "y = y.reshape(X.shape[0], -1)\n",
    "regressor.fit(X, y)\n",
    "\n",
    "fig = plt.figure()\n",
    "a1 = fig.add_subplot(1,2,1)\n",
    "a2 = fig.add_subplot(1,2,2)\n",
    "\n",
    "a1.scatter(X, y)\n",
    "a1.set_title('Task A Data Distribution')\n",
    "a1.set_xlabel('X')\n",
    "a1.set_ylabel('Labels')\n",
    "a1.set_xlim([-5, 5])\n",
    "a1.set_ylim([-5, 5])\n",
    "\n",
    "print('slope = ' + str(regressor.coef_))\n",
    "print('intercept = ' + str(regressor.intercept_))\n",
    "print('y = ' + str(regressor.coef_[0]) + 'x + ' + str(regressor.intercept_))\n",
    "\n",
    "task_A_data = np.append(X, y, axis=1)\n",
    "\n",
    "#Task B data\n",
    "X, y, coef = make_regression(n_samples=1000, n_features=1, n_informative=1, noise=0.1, coef=True, bias=0.0)\n",
    "regressor = LinearRegression()\n",
    "regressor.fit(X, y)\n",
    "y = ((y - regressor.intercept_) / regressor.coef_)\n",
    "y = y.reshape(X.shape[0], -1) - X\n",
    "\n",
    "a2.scatter(X, y)\n",
    "a2.set_title('Task B Data Distribution')\n",
    "a2.set_xlabel('X')\n",
    "a2.set_ylabel('Labels')\n",
    "a2.set_xlim([-5, 5])\n",
    "a2.set_ylim([-5, 5])\n",
    "\n",
    "task_B_data = np.append(X, y, axis=1)"
   ]
  },
  {
   "cell_type": "code",
   "execution_count": 31,
   "metadata": {},
   "outputs": [],
   "source": [
    "def createTaskDatasets(sample_size):\n",
    "    # Create the Task A dataset\n",
    "    X, y, coef = make_regression(n_samples=sample_size, n_features=1, n_informative=1, noise=0.1, coef=True, bias=0.0)\n",
    "\n",
    "    # Use linear regression to find the true values\n",
    "    regressor = LinearRegression()\n",
    "    regressor.fit(X, y)\n",
    "    \n",
    "    # Rescale y = mx + b to be y* = x, where y* = (y - b) / m\n",
    "    y = (y - regressor.intercept_) / regressor.coef_\n",
    "    y = y.reshape(X.shape[0], -1)\n",
    "    \n",
    "    task_A_data = np.append(X, y, axis=1)\n",
    "    \n",
    "    # Test B data\n",
    "    X_new, y_new = make_regression(n_samples=sample_size, n_features=1, n_informative=1, noise=0.1, bias=0.0)\n",
    "    regressor.fit(X_new, y_new)\n",
    "    y_new = ((y_new - regressor.intercept_) / regressor.coef_)\n",
    "    y_new = y_new.reshape(X.shape[0], -1) - X_new\n",
    "\n",
    "    task_B_data = np.append(X_new, y_new, axis=1)\n",
    "    \n",
    "    return task_A_data, task_B_data"
   ]
  },
  {
   "cell_type": "code",
   "execution_count": 96,
   "metadata": {},
   "outputs": [],
   "source": [
    "def experiment(n_task_A, n_task_B, n_test=0.25, n_trees=10, max_depth=None, acorn=None):\n",
    "    \n",
    "    if acorn != None:\n",
    "        np.random.seed(acorn)\n",
    "        \n",
    "    errors = np.zeros(2, dtype=float)\n",
    "    \n",
    "    transformer_voter_decider_split = [0.67, 0.33, 0]\n",
    "    \n",
    "    default_transformer_class = TreeRegressionTransformer\n",
    "    default_transformer_kwargs = {\"kwargs\": {\"max_depth\": max_depth}}\n",
    "\n",
    "    #Not implemented\n",
    "#     taskB_transformer_class = TreeRegressionRandomTransformer\n",
    "\n",
    "    default_voter_class = TreeRegressionVoter\n",
    "    default_voter_kwargs = {}\n",
    "\n",
    "    default_decider_class = KNNRegressionDecider\n",
    "    default_decider_kwargs = {}\n",
    "\n",
    "    progressive_learner = ProgressiveLearner(default_transformer_class = default_transformer_class, \n",
    "                                             default_transformer_kwargs = default_transformer_kwargs,\n",
    "                                             default_voter_class = default_voter_class,\n",
    "                                             default_voter_kwargs = default_voter_kwargs,\n",
    "                                             default_decider_class = default_decider_class,\n",
    "                                             default_decider_kwargs = default_decider_kwargs)\n",
    "\n",
    "    # Create data\n",
    "    taskA_data, taskB_data = createTaskDatasets(n_task_A)\n",
    "    \n",
    "    # Split task data into train/test\n",
    "    taskA_x_train, taskA_x_test, taskA_label_train, taskA_label_test = train_test_split(taskA_data[:,0], \n",
    "                                                                                        taskA_data[:,1], \n",
    "                                                                                        test_size=n_test, \n",
    "                                                                                        random_state=7)\n",
    "\n",
    "    taskB_x_train, taskB_x_test, taskB_label_train, taskB_label_test = train_test_split(taskB_data[:,0], \n",
    "                                                                                        taskB_data[:,1], \n",
    "                                                                                        test_size=n_test, \n",
    "                                                                                        random_state=7)\n",
    "    \n",
    "    taskA_x_train = taskA_x_train.reshape(-1, 1)\n",
    "    taskA_x_test = taskA_x_test.reshape(-1, 1)\n",
    "    taskA_label_train = taskA_label_train.reshape(-1, 1)\n",
    "    taskA_label_test = taskA_label_test.reshape(-1, 1)\n",
    "\n",
    "    taskB_x_train = taskB_x_train.reshape(-1, 1)\n",
    "    taskB_x_test = taskB_x_test.reshape(-1, 1)\n",
    "    taskB_label_train = taskB_label_train.reshape(-1, 1)\n",
    "    taskB_label_test = taskB_label_test.reshape(-1, 1)\n",
    "\n",
    "    if (n_task_A == 0):\n",
    "        progressive_learner.add_task(taskB_x_train, taskB_label_train)\n",
    "        l2f_taskB = progressive_learner.predict(taskB_x_test, transformer_ids=[0], task_id=0)\n",
    "\n",
    "        errors[0] = 0.5\n",
    "        errors[1] = mean_squared_error(lf2_taskB, taskB_label_test)\n",
    "        \n",
    "    elif (n_task_B == 0):\n",
    "        progressive_learner.add_task(taskA_x_train, taskA_label_train)\n",
    "        l2f_taskA = progressive_learner.predict(taskA_x_test, transformer_ids=[0], task_id=0)\n",
    "\n",
    "        errors[0] = mean_squared_error(l2f_taskA, taskA_label_test)\n",
    "        errors[1] = 0.5\n",
    "        \n",
    "    else:\n",
    "        # Add tasks to progressive learner\n",
    "        progressive_learner.add_task(taskA_x_train, taskA_label_train)\n",
    "#         progressive_learner.add_task(taskB_x_train, taskB_label_train)\n",
    "        \n",
    "        # Predict and record loss without adversial transformer\n",
    "        l2f_taskA = progressive_learner.predict(taskA_x_test, transformer_ids=[0], task_id=0)\n",
    "        errors[0] = mean_squared_error(l2f_taskA, taskA_label_test)\n",
    "        \n",
    "        # Create adversial transformer\n",
    "        progressive_learner.add_transformer(taskB_x_train, taskB_label_train,\n",
    "                                            transformer_class=default_transformer_class,\n",
    "                                            transformer_kwargs=default_transformer_kwargs,\n",
    "                                            voter_class=default_voter_class,\n",
    "                                            voter_kwargs=default_voter_kwargs\n",
    "                                           )\n",
    "        # Predict and record loss with adversial transformer\n",
    "        l2f_taskA_adversial = progressive_learner.predict(taskA_x_test, transformer_ids=[0, 1], task_id=0)\n",
    "        errors[1] = mean_squared_error(l2f_taskA_adversial, taskA_label_test)\n",
    "        \n",
    "    return errors"
   ]
  },
  {
   "cell_type": "code",
   "execution_count": 98,
   "metadata": {},
   "outputs": [
    {
     "name": "stdout",
     "output_type": "stream",
     "text": [
      "starting to compute, depth=25\n",
      "\n"
     ]
    },
    {
     "name": "stderr",
     "output_type": "stream",
     "text": [
      "[Parallel(n_jobs=-1)]: Using backend LokyBackend with 4 concurrent workers.\n",
      "[Parallel(n_jobs=-1)]: Done  42 tasks      | elapsed:    7.5s\n",
      "[Parallel(n_jobs=-1)]: Done 100 out of 100 | elapsed:    9.2s finished\n",
      "[Parallel(n_jobs=-1)]: Using backend LokyBackend with 4 concurrent workers.\n"
     ]
    },
    {
     "name": "stdout",
     "output_type": "stream",
     "text": [
      "starting to compute, depth=50\n",
      "\n"
     ]
    },
    {
     "name": "stderr",
     "output_type": "stream",
     "text": [
      "[Parallel(n_jobs=-1)]: Done  76 tasks      | elapsed:    2.4s\n",
      "[Parallel(n_jobs=-1)]: Done 100 out of 100 | elapsed:    3.1s finished\n",
      "[Parallel(n_jobs=-1)]: Using backend LokyBackend with 4 concurrent workers.\n"
     ]
    },
    {
     "name": "stdout",
     "output_type": "stream",
     "text": [
      "starting to compute, depth=75\n",
      "\n"
     ]
    },
    {
     "name": "stderr",
     "output_type": "stream",
     "text": [
      "[Parallel(n_jobs=-1)]: Done  76 tasks      | elapsed:    2.3s\n",
      "[Parallel(n_jobs=-1)]: Done 100 out of 100 | elapsed:    2.9s finished\n",
      "[Parallel(n_jobs=-1)]: Using backend LokyBackend with 4 concurrent workers.\n"
     ]
    },
    {
     "name": "stdout",
     "output_type": "stream",
     "text": [
      "starting to compute, depth=100\n",
      "\n"
     ]
    },
    {
     "name": "stderr",
     "output_type": "stream",
     "text": [
      "[Parallel(n_jobs=-1)]: Done  76 tasks      | elapsed:    2.3s\n",
      "[Parallel(n_jobs=-1)]: Done 100 out of 100 | elapsed:    3.0s finished\n",
      "[Parallel(n_jobs=-1)]: Using backend LokyBackend with 4 concurrent workers.\n"
     ]
    },
    {
     "name": "stdout",
     "output_type": "stream",
     "text": [
      "starting to compute, depth=125\n",
      "\n"
     ]
    },
    {
     "name": "stderr",
     "output_type": "stream",
     "text": [
      "[Parallel(n_jobs=-1)]: Done  76 tasks      | elapsed:    2.3s\n",
      "[Parallel(n_jobs=-1)]: Done 100 out of 100 | elapsed:    3.0s finished\n",
      "[Parallel(n_jobs=-1)]: Using backend LokyBackend with 4 concurrent workers.\n"
     ]
    },
    {
     "name": "stdout",
     "output_type": "stream",
     "text": [
      "starting to compute, depth=150\n",
      "\n"
     ]
    },
    {
     "name": "stderr",
     "output_type": "stream",
     "text": [
      "[Parallel(n_jobs=-1)]: Done  76 tasks      | elapsed:    2.5s\n",
      "[Parallel(n_jobs=-1)]: Done 100 out of 100 | elapsed:    3.2s finished\n",
      "[Parallel(n_jobs=-1)]: Using backend LokyBackend with 4 concurrent workers.\n"
     ]
    },
    {
     "name": "stdout",
     "output_type": "stream",
     "text": [
      "starting to compute, depth=175\n",
      "\n"
     ]
    },
    {
     "name": "stderr",
     "output_type": "stream",
     "text": [
      "[Parallel(n_jobs=-1)]: Done  76 tasks      | elapsed:    2.4s\n",
      "[Parallel(n_jobs=-1)]: Done 100 out of 100 | elapsed:    3.2s finished\n",
      "[Parallel(n_jobs=-1)]: Using backend LokyBackend with 4 concurrent workers.\n"
     ]
    },
    {
     "name": "stdout",
     "output_type": "stream",
     "text": [
      "starting to compute, depth=200\n",
      "\n"
     ]
    },
    {
     "name": "stderr",
     "output_type": "stream",
     "text": [
      "[Parallel(n_jobs=-1)]: Done  76 tasks      | elapsed:    2.5s\n",
      "[Parallel(n_jobs=-1)]: Done 100 out of 100 | elapsed:    3.2s finished\n",
      "[Parallel(n_jobs=-1)]: Using backend LokyBackend with 4 concurrent workers.\n"
     ]
    },
    {
     "name": "stdout",
     "output_type": "stream",
     "text": [
      "starting to compute, depth=225\n",
      "\n"
     ]
    },
    {
     "name": "stderr",
     "output_type": "stream",
     "text": [
      "[Parallel(n_jobs=-1)]: Done  76 tasks      | elapsed:    2.3s\n",
      "[Parallel(n_jobs=-1)]: Done 100 out of 100 | elapsed:    2.9s finished\n",
      "[Parallel(n_jobs=-1)]: Using backend LokyBackend with 4 concurrent workers.\n"
     ]
    },
    {
     "name": "stdout",
     "output_type": "stream",
     "text": [
      "starting to compute, depth=250\n",
      "\n"
     ]
    },
    {
     "name": "stderr",
     "output_type": "stream",
     "text": [
      "[Parallel(n_jobs=-1)]: Done  76 tasks      | elapsed:    2.3s\n",
      "[Parallel(n_jobs=-1)]: Done  93 out of 100 | elapsed:    2.8s remaining:    0.1s\n",
      "[Parallel(n_jobs=-1)]: Done 100 out of 100 | elapsed:    2.9s finished\n",
      "[Parallel(n_jobs=-1)]: Using backend LokyBackend with 4 concurrent workers.\n"
     ]
    },
    {
     "name": "stdout",
     "output_type": "stream",
     "text": [
      "starting to compute, depth=275\n",
      "\n"
     ]
    },
    {
     "name": "stderr",
     "output_type": "stream",
     "text": [
      "[Parallel(n_jobs=-1)]: Done  76 tasks      | elapsed:    2.6s\n",
      "[Parallel(n_jobs=-1)]: Done  93 out of 100 | elapsed:    3.2s remaining:    0.1s\n",
      "[Parallel(n_jobs=-1)]: Done 100 out of 100 | elapsed:    3.3s finished\n",
      "[Parallel(n_jobs=-1)]: Using backend LokyBackend with 4 concurrent workers.\n"
     ]
    },
    {
     "name": "stdout",
     "output_type": "stream",
     "text": [
      "starting to compute, depth=300\n",
      "\n"
     ]
    },
    {
     "name": "stderr",
     "output_type": "stream",
     "text": [
      "[Parallel(n_jobs=-1)]: Done  76 tasks      | elapsed:    2.4s\n",
      "[Parallel(n_jobs=-1)]: Done 100 out of 100 | elapsed:    3.1s finished\n",
      "[Parallel(n_jobs=-1)]: Using backend LokyBackend with 4 concurrent workers.\n"
     ]
    },
    {
     "name": "stdout",
     "output_type": "stream",
     "text": [
      "starting to compute, depth=325\n",
      "\n"
     ]
    },
    {
     "name": "stderr",
     "output_type": "stream",
     "text": [
      "[Parallel(n_jobs=-1)]: Done  76 tasks      | elapsed:    2.3s\n",
      "[Parallel(n_jobs=-1)]: Done 100 out of 100 | elapsed:    2.9s finished\n",
      "[Parallel(n_jobs=-1)]: Using backend LokyBackend with 4 concurrent workers.\n"
     ]
    },
    {
     "name": "stdout",
     "output_type": "stream",
     "text": [
      "starting to compute, depth=350\n",
      "\n"
     ]
    },
    {
     "name": "stderr",
     "output_type": "stream",
     "text": [
      "[Parallel(n_jobs=-1)]: Done  76 tasks      | elapsed:    2.3s\n",
      "[Parallel(n_jobs=-1)]: Done  93 out of 100 | elapsed:    2.8s remaining:    0.1s\n",
      "[Parallel(n_jobs=-1)]: Done 100 out of 100 | elapsed:    2.9s finished\n",
      "[Parallel(n_jobs=-1)]: Using backend LokyBackend with 4 concurrent workers.\n"
     ]
    },
    {
     "name": "stdout",
     "output_type": "stream",
     "text": [
      "starting to compute, depth=375\n",
      "\n"
     ]
    },
    {
     "name": "stderr",
     "output_type": "stream",
     "text": [
      "[Parallel(n_jobs=-1)]: Done  76 tasks      | elapsed:    2.3s\n",
      "[Parallel(n_jobs=-1)]: Done  93 out of 100 | elapsed:    2.8s remaining:    0.1s\n",
      "[Parallel(n_jobs=-1)]: Done 100 out of 100 | elapsed:    2.9s finished\n",
      "[Parallel(n_jobs=-1)]: Using backend LokyBackend with 4 concurrent workers.\n"
     ]
    },
    {
     "name": "stdout",
     "output_type": "stream",
     "text": [
      "starting to compute, depth=400\n",
      "\n"
     ]
    },
    {
     "name": "stderr",
     "output_type": "stream",
     "text": [
      "[Parallel(n_jobs=-1)]: Done  76 tasks      | elapsed:    2.5s\n",
      "[Parallel(n_jobs=-1)]: Done 100 out of 100 | elapsed:    3.2s finished\n",
      "[Parallel(n_jobs=-1)]: Using backend LokyBackend with 4 concurrent workers.\n"
     ]
    },
    {
     "name": "stdout",
     "output_type": "stream",
     "text": [
      "starting to compute, depth=425\n",
      "\n"
     ]
    },
    {
     "name": "stderr",
     "output_type": "stream",
     "text": [
      "[Parallel(n_jobs=-1)]: Done  76 tasks      | elapsed:    2.3s\n",
      "[Parallel(n_jobs=-1)]: Done  93 out of 100 | elapsed:    3.0s remaining:    0.1s\n",
      "[Parallel(n_jobs=-1)]: Done 100 out of 100 | elapsed:    3.1s finished\n",
      "[Parallel(n_jobs=-1)]: Using backend LokyBackend with 4 concurrent workers.\n"
     ]
    },
    {
     "name": "stdout",
     "output_type": "stream",
     "text": [
      "starting to compute, depth=450\n",
      "\n"
     ]
    },
    {
     "name": "stderr",
     "output_type": "stream",
     "text": [
      "[Parallel(n_jobs=-1)]: Done  76 tasks      | elapsed:    2.7s\n",
      "[Parallel(n_jobs=-1)]: Done 100 out of 100 | elapsed:    3.5s finished\n",
      "[Parallel(n_jobs=-1)]: Using backend LokyBackend with 4 concurrent workers.\n"
     ]
    },
    {
     "name": "stdout",
     "output_type": "stream",
     "text": [
      "starting to compute, depth=475\n",
      "\n"
     ]
    },
    {
     "name": "stderr",
     "output_type": "stream",
     "text": [
      "[Parallel(n_jobs=-1)]: Done  76 tasks      | elapsed:    2.5s\n",
      "[Parallel(n_jobs=-1)]: Done 100 out of 100 | elapsed:    3.2s finished\n"
     ]
    }
   ],
   "source": [
    "# Set up the tree parameters\n",
    "mc_rep = 100\n",
    "n_test = 0.25\n",
    "n_trees = 10\n",
    "n_sample_size = 1000\n",
    "\n",
    "range_depths = (100*np.arange(0.25, 5.0, step=0.25)).astype(int)\n",
    "\n",
    "# Initiate error arrays\n",
    "mean_error = np.zeros((2, len(range_depths)))\n",
    "std_error = np.zeros((2, len(range_depths)))\n",
    "\n",
    "# Initiate transfer efficiencies\n",
    "mean_te = np.zeros((1, len(range_depths)))\n",
    "std_te = np.zeros((1, len(range_depths)))\n",
    "\n",
    "for i, n1 in enumerate(range_depths):\n",
    "    print('starting to compute, depth=%s\\n' %n1)\n",
    "    error = np.array(\n",
    "        Parallel(n_jobs=-1, verbose=1)(\n",
    "            delayed(experiment)(\n",
    "                n_sample_size, n_sample_size, n_test=n_test, n_trees=n_trees, max_depth=n1\n",
    "            ) for _ in range(mc_rep)\n",
    "        )\n",
    "    )\n",
    "    mean_error[:, i] = np.mean(error, axis=0)\n",
    "    std_error[:, i] = np.std(error, ddof=1, axis=0)\n",
    "    \n",
    "    mean_te[0, i] = np.mean(error[:, 0]) / np.mean(error[:, 1])\n",
    "        \n",
    "\n",
    "with open('./data/mean_taskA_taskB.pickle', 'wb') as f:\n",
    "    pickle.dump(mean_error, f)\n",
    "    \n",
    "with open('./data/std_taskA_taskB.pickle', 'wb') as f:\n",
    "    pickle.dump(std_error, f)\n",
    "\n",
    "with open('./data/mean_te_taskA_taskB.pickle', 'wb') as f:\n",
    "    pickle.dump(mean_te, f)"
   ]
  },
  {
   "cell_type": "code",
   "execution_count": 107,
   "metadata": {},
   "outputs": [
    {
     "data": {
      "text/plain": [
       "Text(0, 0.5, 'Generalization Error')"
      ]
     },
     "execution_count": 107,
     "metadata": {},
     "output_type": "execute_result"
    },
    {
     "data": {
      "image/png": "[encoded data removed]",
      "text/plain": [
       "<Figure size 432x288 with 1 Axes>"
      ]
     },
     "metadata": {
      "needs_background": "light"
     },
     "output_type": "display_data"
    }
   ],
   "source": [
    "with open('data/mean_taskA_taskB.pickle','rb') as f:\n",
    "    mean_error = pickle.load(f)\n",
    "\n",
    "range_depths = (100*np.arange(0.25, 5.0, step=0.25)).astype(int)\n",
    "plt.scatter(range_depths, mean_error[0,:], label='Task A')\n",
    "plt.scatter(range_depths, mean_error[1,:], label='Task A with Adverserial')\n",
    "plt.legend(loc='right', frameon=False)\n",
    "plt.xlabel('Depth')\n",
    "plt.ylabel('Generalization Error')"
   ]
  },
  {
   "cell_type": "code",
   "execution_count": 100,
   "metadata": {},
   "outputs": [
    {
     "data": {
      "text/plain": [
       "array([[0.14557784, 0.13506288, 0.13112874, 0.13388873, 0.13671593,\n",
       "        0.13518309, 0.13526073, 0.12917322, 0.1400386 , 0.13274805,\n",
       "        0.13818048, 0.13492959, 0.14526264, 0.13219145, 0.14099454,\n",
       "        0.14083033, 0.13411517, 0.1401851 , 0.14195218],\n",
       "       [0.09003814, 0.0836046 , 0.0795583 , 0.08404336, 0.08544928,\n",
       "        0.08854321, 0.08789909, 0.08220104, 0.0878121 , 0.07980463,\n",
       "        0.08211277, 0.08213799, 0.08733824, 0.08118821, 0.08598347,\n",
       "        0.08515708, 0.08709221, 0.08900057, 0.08881509]])"
      ]
     },
     "execution_count": 100,
     "metadata": {},
     "output_type": "execute_result"
    }
   ],
   "source": [
    "mean_error"
   ]
  },
  {
   "cell_type": "code",
   "execution_count": null,
   "metadata": {},
   "outputs": [],
   "source": []
  }
 ],
 "metadata": {
  "kernelspec": {
   "display_name": "Python 3",
   "language": "python",
   "name": "python3"
  },
  "language_info": {
   "codemirror_mode": {
    "name": "ipython",
    "version": 3
   },
   "file_extension": ".py",
   "mimetype": "text/x-python",
   "name": "python",
   "nbconvert_exporter": "python",
   "pygments_lexer": "ipython3",
   "version": "3.7.9"
  }
 },
 "nbformat": 4,
 "nbformat_minor": 4
}
